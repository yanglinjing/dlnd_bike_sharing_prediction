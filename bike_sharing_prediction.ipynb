{
  "nbformat": 4,
  "nbformat_minor": 0,
  "metadata": {
    "colab": {
      "name": "bike_sharing_prediction.ipynb",
      "version": "0.3.2",
      "provenance": [],
      "collapsed_sections": []
    },
    "kernelspec": {
      "display_name": "Python 3",
      "language": "python",
      "name": "python3"
    }
  },
  "cells": [
    {
      "metadata": {
        "id": "M0mOGEV_9t6b",
        "colab_type": "text"
      },
      "cell_type": "markdown",
      "source": [
        "# Daily Bike Rental Ridership Predicting\n",
        "\n"
      ]
    },
    {
      "metadata": {
        "id": "KKqkxUgb-r6H",
        "colab_type": "code",
        "colab": {
          "base_uri": "https://localhost:8080/",
          "height": 121
        },
        "outputId": "ffea9d62-62a5-4e14-8ed8-4d6e6c755540"
      },
      "cell_type": "code",
      "source": [
        "# All the documents are stored on Google Drive.\n",
        "# It requires authorisation before use them.\n",
        "# This chunk of code is about authorisation.\n",
        "\n",
        "# Mounting Google Drive locally\n",
        "# https://colab.research.google.com/notebooks/io.ipynb#scrollTo=u22w3BFiOveA\n",
        "\n",
        "from google.colab import drive\n",
        "drive.mount('/content/gdrive')"
      ],
      "execution_count": 1,
      "outputs": [
        {
          "output_type": "stream",
          "text": [
            "Go to this URL in a browser: https://accounts.google.com/o/oauth2/auth?client_id=947318989803-6bn6qk8qdgf4n4g3pfee6491hc0brc4i.apps.googleusercontent.com&redirect_uri=urn%3Aietf%3Awg%3Aoauth%3A2.0%3Aoob&scope=email%20https%3A%2F%2Fwww.googleapis.com%2Fauth%2Fdocs.test%20https%3A%2F%2Fwww.googleapis.com%2Fauth%2Fdrive%20https%3A%2F%2Fwww.googleapis.com%2Fauth%2Fdrive.photos.readonly%20https%3A%2F%2Fwww.googleapis.com%2Fauth%2Fpeopleapi.readonly&response_type=code\n",
            "\n",
            "Enter your authorization code:\n",
            "··········\n",
            "Mounted at /content/gdrive\n"
          ],
          "name": "stdout"
        }
      ]
    },
    {
      "metadata": {
        "id": "GWlLBUtE-wAU",
        "colab_type": "code",
        "colab": {
          "base_uri": "https://localhost:8080/",
          "height": 34
        },
        "outputId": "944002d0-7c71-4334-daa7-5d092d2be400"
      },
      "cell_type": "code",
      "source": [
        "!pwd"
      ],
      "execution_count": 2,
      "outputs": [
        {
          "output_type": "stream",
          "text": [
            "/content\n"
          ],
          "name": "stdout"
        }
      ]
    },
    {
      "metadata": {
        "id": "MmKzEreT-wGf",
        "colab_type": "code",
        "colab": {
          "base_uri": "https://localhost:8080/",
          "height": 34
        },
        "outputId": "17322060-d9c1-4fb5-c58b-79eb944d8ddf"
      },
      "cell_type": "code",
      "source": [
        "#google colab - change path to google drive\n",
        "\n",
        "import os \n",
        "os.chdir('gdrive/My Drive/Colab Notebooks/dl_p1_bike_sharing')\n",
        "!pwd"
      ],
      "execution_count": 3,
      "outputs": [
        {
          "output_type": "stream",
          "text": [
            "/content/gdrive/My Drive/Colab Notebooks/dl_p1_bike_sharing\n"
          ],
          "name": "stdout"
        }
      ]
    },
    {
      "metadata": {
        "id": "DgFyKGWr-2fM",
        "colab_type": "code",
        "colab": {
          "base_uri": "https://localhost:8080/",
          "height": 50
        },
        "outputId": "9b0e96d4-bf45-4e89-a6ff-598990ef778e"
      },
      "cell_type": "code",
      "source": [
        "!ls"
      ],
      "execution_count": 4,
      "outputs": [
        {
          "output_type": "stream",
          "text": [
            "bike_rental_ridership_predict.ipynb  my_answers.py\n",
            "Bike-Sharing-Dataset\t\t     requirements.txt\n"
          ],
          "name": "stdout"
        }
      ]
    },
    {
      "metadata": {
        "id": "SBrJ3Txq9t6d",
        "colab_type": "code",
        "colab": {}
      },
      "cell_type": "code",
      "source": [
        "%matplotlib inline\n",
        "%load_ext autoreload\n",
        "%autoreload 2\n",
        "%config InlineBackend.figure_format = 'retina'\n",
        "\n",
        "import numpy as np\n",
        "import pandas as pd\n",
        "import matplotlib.pyplot as plt"
      ],
      "execution_count": 0,
      "outputs": []
    },
    {
      "metadata": {
        "id": "B00w8AEj9t6h",
        "colab_type": "text"
      },
      "cell_type": "markdown",
      "source": [
        "## Load and prepare the data\n",
        "\n",
        "A critical step in working with neural networks is preparing the data correctly. Variables on different scales make it difficult for the network to efficiently learn the correct weights. Below, we've written the code to load and prepare the data. You'll learn more about this soon!"
      ]
    },
    {
      "metadata": {
        "id": "_8J-TXZq9t6i",
        "colab_type": "code",
        "colab": {}
      },
      "cell_type": "code",
      "source": [
        "data_path = 'Bike-Sharing-Dataset/hour.csv'\n",
        "\n",
        "rides = pd.read_csv(data_path)"
      ],
      "execution_count": 0,
      "outputs": []
    },
    {
      "metadata": {
        "id": "CerNuRz69t6l",
        "colab_type": "code",
        "colab": {
          "base_uri": "https://localhost:8080/",
          "height": 195
        },
        "outputId": "97a94e14-ed21-4bef-b9d0-0808fedf12a4"
      },
      "cell_type": "code",
      "source": [
        "rides.head()"
      ],
      "execution_count": 8,
      "outputs": [
        {
          "output_type": "execute_result",
          "data": {
            "text/html": [
              "<div>\n",
              "<style scoped>\n",
              "    .dataframe tbody tr th:only-of-type {\n",
              "        vertical-align: middle;\n",
              "    }\n",
              "\n",
              "    .dataframe tbody tr th {\n",
              "        vertical-align: top;\n",
              "    }\n",
              "\n",
              "    .dataframe thead th {\n",
              "        text-align: right;\n",
              "    }\n",
              "</style>\n",
              "<table border=\"1\" class=\"dataframe\">\n",
              "  <thead>\n",
              "    <tr style=\"text-align: right;\">\n",
              "      <th></th>\n",
              "      <th>instant</th>\n",
              "      <th>dteday</th>\n",
              "      <th>season</th>\n",
              "      <th>yr</th>\n",
              "      <th>mnth</th>\n",
              "      <th>hr</th>\n",
              "      <th>holiday</th>\n",
              "      <th>weekday</th>\n",
              "      <th>workingday</th>\n",
              "      <th>weathersit</th>\n",
              "      <th>temp</th>\n",
              "      <th>atemp</th>\n",
              "      <th>hum</th>\n",
              "      <th>windspeed</th>\n",
              "      <th>casual</th>\n",
              "      <th>registered</th>\n",
              "      <th>cnt</th>\n",
              "    </tr>\n",
              "  </thead>\n",
              "  <tbody>\n",
              "    <tr>\n",
              "      <th>0</th>\n",
              "      <td>1</td>\n",
              "      <td>2011-01-01</td>\n",
              "      <td>1</td>\n",
              "      <td>0</td>\n",
              "      <td>1</td>\n",
              "      <td>0</td>\n",
              "      <td>0</td>\n",
              "      <td>6</td>\n",
              "      <td>0</td>\n",
              "      <td>1</td>\n",
              "      <td>0.24</td>\n",
              "      <td>0.2879</td>\n",
              "      <td>0.81</td>\n",
              "      <td>0.0</td>\n",
              "      <td>3</td>\n",
              "      <td>13</td>\n",
              "      <td>16</td>\n",
              "    </tr>\n",
              "    <tr>\n",
              "      <th>1</th>\n",
              "      <td>2</td>\n",
              "      <td>2011-01-01</td>\n",
              "      <td>1</td>\n",
              "      <td>0</td>\n",
              "      <td>1</td>\n",
              "      <td>1</td>\n",
              "      <td>0</td>\n",
              "      <td>6</td>\n",
              "      <td>0</td>\n",
              "      <td>1</td>\n",
              "      <td>0.22</td>\n",
              "      <td>0.2727</td>\n",
              "      <td>0.80</td>\n",
              "      <td>0.0</td>\n",
              "      <td>8</td>\n",
              "      <td>32</td>\n",
              "      <td>40</td>\n",
              "    </tr>\n",
              "    <tr>\n",
              "      <th>2</th>\n",
              "      <td>3</td>\n",
              "      <td>2011-01-01</td>\n",
              "      <td>1</td>\n",
              "      <td>0</td>\n",
              "      <td>1</td>\n",
              "      <td>2</td>\n",
              "      <td>0</td>\n",
              "      <td>6</td>\n",
              "      <td>0</td>\n",
              "      <td>1</td>\n",
              "      <td>0.22</td>\n",
              "      <td>0.2727</td>\n",
              "      <td>0.80</td>\n",
              "      <td>0.0</td>\n",
              "      <td>5</td>\n",
              "      <td>27</td>\n",
              "      <td>32</td>\n",
              "    </tr>\n",
              "    <tr>\n",
              "      <th>3</th>\n",
              "      <td>4</td>\n",
              "      <td>2011-01-01</td>\n",
              "      <td>1</td>\n",
              "      <td>0</td>\n",
              "      <td>1</td>\n",
              "      <td>3</td>\n",
              "      <td>0</td>\n",
              "      <td>6</td>\n",
              "      <td>0</td>\n",
              "      <td>1</td>\n",
              "      <td>0.24</td>\n",
              "      <td>0.2879</td>\n",
              "      <td>0.75</td>\n",
              "      <td>0.0</td>\n",
              "      <td>3</td>\n",
              "      <td>10</td>\n",
              "      <td>13</td>\n",
              "    </tr>\n",
              "    <tr>\n",
              "      <th>4</th>\n",
              "      <td>5</td>\n",
              "      <td>2011-01-01</td>\n",
              "      <td>1</td>\n",
              "      <td>0</td>\n",
              "      <td>1</td>\n",
              "      <td>4</td>\n",
              "      <td>0</td>\n",
              "      <td>6</td>\n",
              "      <td>0</td>\n",
              "      <td>1</td>\n",
              "      <td>0.24</td>\n",
              "      <td>0.2879</td>\n",
              "      <td>0.75</td>\n",
              "      <td>0.0</td>\n",
              "      <td>0</td>\n",
              "      <td>1</td>\n",
              "      <td>1</td>\n",
              "    </tr>\n",
              "  </tbody>\n",
              "</table>\n",
              "</div>"
            ],
            "text/plain": [
              "   instant      dteday  season  yr  mnth  hr  holiday  weekday  workingday  \\\n",
              "0        1  2011-01-01       1   0     1   0        0        6           0   \n",
              "1        2  2011-01-01       1   0     1   1        0        6           0   \n",
              "2        3  2011-01-01       1   0     1   2        0        6           0   \n",
              "3        4  2011-01-01       1   0     1   3        0        6           0   \n",
              "4        5  2011-01-01       1   0     1   4        0        6           0   \n",
              "\n",
              "   weathersit  temp   atemp   hum  windspeed  casual  registered  cnt  \n",
              "0           1  0.24  0.2879  0.81        0.0       3          13   16  \n",
              "1           1  0.22  0.2727  0.80        0.0       8          32   40  \n",
              "2           1  0.22  0.2727  0.80        0.0       5          27   32  \n",
              "3           1  0.24  0.2879  0.75        0.0       3          10   13  \n",
              "4           1  0.24  0.2879  0.75        0.0       0           1    1  "
            ]
          },
          "metadata": {
            "tags": []
          },
          "execution_count": 8
        }
      ]
    },
    {
      "metadata": {
        "id": "TmRcxIph9t6o",
        "colab_type": "text"
      },
      "cell_type": "markdown",
      "source": [
        "## Checking out the data\n",
        "\n",
        "This dataset has the number of riders for each hour of each day from January 1 2011 to December 31 2012. The number of riders is split between casual and registered, summed up in the `cnt` column. You can see the first few rows of the data above.\n",
        "\n",
        "Below is a plot showing the number of bike riders over the first 10 days or so in the data set. (Some days don't have exactly 24 entries in the data set, so it's not exactly 10 days.) You can see the hourly rentals here. This data is pretty complicated! The weekends have lower over all ridership and there are spikes when people are biking to and from work during the week. Looking at the data above, we also have information about temperature, humidity, and windspeed, all of these likely affecting the number of riders. You'll be trying to capture all this with your model."
      ]
    },
    {
      "metadata": {
        "id": "BMhHpvKa9t6p",
        "colab_type": "code",
        "colab": {
          "base_uri": "https://localhost:8080/",
          "height": 286
        },
        "outputId": "3b0188d1-ee00-4ccf-f5cd-9038206c5e46"
      },
      "cell_type": "code",
      "source": [
        "rides[:24*10].plot(x='dteday', y='cnt')"
      ],
      "execution_count": 9,
      "outputs": [
        {
          "output_type": "execute_result",
          "data": {
            "text/plain": [
              "<matplotlib.axes._subplots.AxesSubplot at 0x7f806a17ba20>"
            ]
          },
          "metadata": {
            "tags": []
          },
          "execution_count": 9
        },
        {
          "output_type": "display_data",
          "data": {
            "image/png": "[encoded data removed]",
            "text/plain": [
              "<Figure size 432x288 with 1 Axes>"
            ]
          },
          "metadata": {
            "tags": [],
            "image/png": {
              "width": 372,
              "height": 253
            }
          }
        }
      ]
    },
    {
      "metadata": {
        "id": "UzddMQfD9t6s",
        "colab_type": "text"
      },
      "cell_type": "markdown",
      "source": [
        "### Dummy variables\n",
        "Here we have some categorical variables like season, weather, month. To include these in our model, we'll need to make binary dummy variables. This is simple to do with Pandas thanks to `get_dummies()`."
      ]
    },
    {
      "metadata": {
        "id": "aXRnwtlY9t6t",
        "colab_type": "code",
        "colab": {
          "base_uri": "https://localhost:8080/",
          "height": 244
        },
        "outputId": "af699cce-5187-41e5-b088-baf401d26c41"
      },
      "cell_type": "code",
      "source": [
        "dummy_fields = ['season', 'weathersit', 'mnth', 'hr', 'weekday']\n",
        "for each in dummy_fields:\n",
        "    dummies = pd.get_dummies(rides[each], prefix=each, drop_first=False)\n",
        "    rides = pd.concat([rides, dummies], axis=1)\n",
        "\n",
        "fields_to_drop = ['instant', 'dteday', 'season', 'weathersit', \n",
        "                  'weekday', 'atemp', 'mnth', 'workingday', 'hr']\n",
        "data = rides.drop(fields_to_drop, axis=1)\n",
        "data.head()"
      ],
      "execution_count": 7,
      "outputs": [
        {
          "output_type": "execute_result",
          "data": {
            "text/html": [
              "<div>\n",
              "<style scoped>\n",
              "    .dataframe tbody tr th:only-of-type {\n",
              "        vertical-align: middle;\n",
              "    }\n",
              "\n",
              "    .dataframe tbody tr th {\n",
              "        vertical-align: top;\n",
              "    }\n",
              "\n",
              "    .dataframe thead th {\n",
              "        text-align: right;\n",
              "    }\n",
              "</style>\n",
              "<table border=\"1\" class=\"dataframe\">\n",
              "  <thead>\n",
              "    <tr style=\"text-align: right;\">\n",
              "      <th></th>\n",
              "      <th>yr</th>\n",
              "      <th>holiday</th>\n",
              "      <th>temp</th>\n",
              "      <th>hum</th>\n",
              "      <th>windspeed</th>\n",
              "      <th>casual</th>\n",
              "      <th>registered</th>\n",
              "      <th>cnt</th>\n",
              "      <th>season_1</th>\n",
              "      <th>season_2</th>\n",
              "      <th>...</th>\n",
              "      <th>hr_21</th>\n",
              "      <th>hr_22</th>\n",
              "      <th>hr_23</th>\n",
              "      <th>weekday_0</th>\n",
              "      <th>weekday_1</th>\n",
              "      <th>weekday_2</th>\n",
              "      <th>weekday_3</th>\n",
              "      <th>weekday_4</th>\n",
              "      <th>weekday_5</th>\n",
              "      <th>weekday_6</th>\n",
              "    </tr>\n",
              "  </thead>\n",
              "  <tbody>\n",
              "    <tr>\n",
              "      <th>0</th>\n",
              "      <td>0</td>\n",
              "      <td>0</td>\n",
              "      <td>0.24</td>\n",
              "      <td>0.81</td>\n",
              "      <td>0.0</td>\n",
              "      <td>3</td>\n",
              "      <td>13</td>\n",
              "      <td>16</td>\n",
              "      <td>1</td>\n",
              "      <td>0</td>\n",
              "      <td>...</td>\n",
              "      <td>0</td>\n",
              "      <td>0</td>\n",
              "      <td>0</td>\n",
              "      <td>0</td>\n",
              "      <td>0</td>\n",
              "      <td>0</td>\n",
              "      <td>0</td>\n",
              "      <td>0</td>\n",
              "      <td>0</td>\n",
              "      <td>1</td>\n",
              "    </tr>\n",
              "    <tr>\n",
              "      <th>1</th>\n",
              "      <td>0</td>\n",
              "      <td>0</td>\n",
              "      <td>0.22</td>\n",
              "      <td>0.80</td>\n",
              "      <td>0.0</td>\n",
              "      <td>8</td>\n",
              "      <td>32</td>\n",
              "      <td>40</td>\n",
              "      <td>1</td>\n",
              "      <td>0</td>\n",
              "      <td>...</td>\n",
              "      <td>0</td>\n",
              "      <td>0</td>\n",
              "      <td>0</td>\n",
              "      <td>0</td>\n",
              "      <td>0</td>\n",
              "      <td>0</td>\n",
              "      <td>0</td>\n",
              "      <td>0</td>\n",
              "      <td>0</td>\n",
              "      <td>1</td>\n",
              "    </tr>\n",
              "    <tr>\n",
              "      <th>2</th>\n",
              "      <td>0</td>\n",
              "      <td>0</td>\n",
              "      <td>0.22</td>\n",
              "      <td>0.80</td>\n",
              "      <td>0.0</td>\n",
              "      <td>5</td>\n",
              "      <td>27</td>\n",
              "      <td>32</td>\n",
              "      <td>1</td>\n",
              "      <td>0</td>\n",
              "      <td>...</td>\n",
              "      <td>0</td>\n",
              "      <td>0</td>\n",
              "      <td>0</td>\n",
              "      <td>0</td>\n",
              "      <td>0</td>\n",
              "      <td>0</td>\n",
              "      <td>0</td>\n",
              "      <td>0</td>\n",
              "      <td>0</td>\n",
              "      <td>1</td>\n",
              "    </tr>\n",
              "    <tr>\n",
              "      <th>3</th>\n",
              "      <td>0</td>\n",
              "      <td>0</td>\n",
              "      <td>0.24</td>\n",
              "      <td>0.75</td>\n",
              "      <td>0.0</td>\n",
              "      <td>3</td>\n",
              "      <td>10</td>\n",
              "      <td>13</td>\n",
              "      <td>1</td>\n",
              "      <td>0</td>\n",
              "      <td>...</td>\n",
              "      <td>0</td>\n",
              "      <td>0</td>\n",
              "      <td>0</td>\n",
              "      <td>0</td>\n",
              "      <td>0</td>\n",
              "      <td>0</td>\n",
              "      <td>0</td>\n",
              "      <td>0</td>\n",
              "      <td>0</td>\n",
              "      <td>1</td>\n",
              "    </tr>\n",
              "    <tr>\n",
              "      <th>4</th>\n",
              "      <td>0</td>\n",
              "      <td>0</td>\n",
              "      <td>0.24</td>\n",
              "      <td>0.75</td>\n",
              "      <td>0.0</td>\n",
              "      <td>0</td>\n",
              "      <td>1</td>\n",
              "      <td>1</td>\n",
              "      <td>1</td>\n",
              "      <td>0</td>\n",
              "      <td>...</td>\n",
              "      <td>0</td>\n",
              "      <td>0</td>\n",
              "      <td>0</td>\n",
              "      <td>0</td>\n",
              "      <td>0</td>\n",
              "      <td>0</td>\n",
              "      <td>0</td>\n",
              "      <td>0</td>\n",
              "      <td>0</td>\n",
              "      <td>1</td>\n",
              "    </tr>\n",
              "  </tbody>\n",
              "</table>\n",
              "<p>5 rows × 59 columns</p>\n",
              "</div>"
            ],
            "text/plain": [
              "   yr  holiday  temp   hum  windspeed  casual  registered  cnt  season_1  \\\n",
              "0   0        0  0.24  0.81        0.0       3          13   16         1   \n",
              "1   0        0  0.22  0.80        0.0       8          32   40         1   \n",
              "2   0        0  0.22  0.80        0.0       5          27   32         1   \n",
              "3   0        0  0.24  0.75        0.0       3          10   13         1   \n",
              "4   0        0  0.24  0.75        0.0       0           1    1         1   \n",
              "\n",
              "   season_2    ...      hr_21  hr_22  hr_23  weekday_0  weekday_1  weekday_2  \\\n",
              "0         0    ...          0      0      0          0          0          0   \n",
              "1         0    ...          0      0      0          0          0          0   \n",
              "2         0    ...          0      0      0          0          0          0   \n",
              "3         0    ...          0      0      0          0          0          0   \n",
              "4         0    ...          0      0      0          0          0          0   \n",
              "\n",
              "   weekday_3  weekday_4  weekday_5  weekday_6  \n",
              "0          0          0          0          1  \n",
              "1          0          0          0          1  \n",
              "2          0          0          0          1  \n",
              "3          0          0          0          1  \n",
              "4          0          0          0          1  \n",
              "\n",
              "[5 rows x 59 columns]"
            ]
          },
          "metadata": {
            "tags": []
          },
          "execution_count": 7
        }
      ]
    },
    {
      "metadata": {
        "id": "bH_XYP6u9t6v",
        "colab_type": "text"
      },
      "cell_type": "markdown",
      "source": [
        "### Scaling target variables\n",
        "To make training the network easier, we'll standardize each of the continuous variables. That is, we'll shift and scale the variables such that they have zero mean and a standard deviation of 1.\n",
        "\n",
        "The scaling factors are saved so we can go backwards when we use the network for predictions."
      ]
    },
    {
      "metadata": {
        "id": "ju1aI9GI9t6w",
        "colab_type": "code",
        "colab": {}
      },
      "cell_type": "code",
      "source": [
        "quant_features = ['casual', 'registered', 'cnt', 'temp', 'hum', 'windspeed']\n",
        "# Store scalings in a dictionary so we can convert back later\n",
        "scaled_features = {}\n",
        "for each in quant_features:\n",
        "    mean, std = data[each].mean(), data[each].std()\n",
        "    scaled_features[each] = [mean, std]\n",
        "    data.loc[:, each] = (data[each] - mean)/std"
      ],
      "execution_count": 0,
      "outputs": []
    },
    {
      "metadata": {
        "id": "RwCi7fj39t6z",
        "colab_type": "text"
      },
      "cell_type": "markdown",
      "source": [
        "### Splitting the data into training, testing, and validation sets\n",
        "\n",
        "We'll save the data for the last approximately 21 days to use as a test set after we've trained the network. We'll use this set to make predictions and compare them with the actual number of riders."
      ]
    },
    {
      "metadata": {
        "id": "HIrkL4E59t60",
        "colab_type": "code",
        "colab": {}
      },
      "cell_type": "code",
      "source": [
        "# Save data for approximately the last 21 days \n",
        "test_data = data[-21*24:]\n",
        "\n",
        "# Now remove the test data from the data set \n",
        "data = data[:-21*24]\n",
        "\n",
        "# Separate the data into features and targets\n",
        "target_fields = ['cnt', 'casual', 'registered']\n",
        "features, targets = data.drop(target_fields, axis=1), data[target_fields]\n",
        "test_features, test_targets = test_data.drop(target_fields, axis=1), test_data[target_fields]"
      ],
      "execution_count": 0,
      "outputs": []
    },
    {
      "metadata": {
        "id": "pb4rWAFK9t64",
        "colab_type": "text"
      },
      "cell_type": "markdown",
      "source": [
        "We'll split the data into two sets, one for training and one for validating as the network is being trained. Since this is time series data, we'll train on historical data, then try to predict on future data (the validation set)."
      ]
    },
    {
      "metadata": {
        "id": "NduQftDk9t65",
        "colab_type": "code",
        "colab": {}
      },
      "cell_type": "code",
      "source": [
        "# Hold out the last 60 days or so of the remaining data as a validation set\n",
        "train_features, train_targets = features[:-60*24], targets[:-60*24]\n",
        "val_features, val_targets = features[-60*24:], targets[-60*24:]"
      ],
      "execution_count": 0,
      "outputs": []
    },
    {
      "metadata": {
        "id": "VHk4TFeG9t67",
        "colab_type": "text"
      },
      "cell_type": "markdown",
      "source": [
        "## Time to build the network\n",
        "\n",
        "Below you'll build your network. We've built out the structure. You'll implement both the forward pass and backwards pass through the network. You'll also set the hyperparameters: the learning rate, the number of hidden units, and the number of training passes.\n",
        "\n",
        "<img src=\"assets/neural_network.png\" width=300px>\n",
        "\n",
        "The network has two layers, a hidden layer and an output layer. The hidden layer will use the sigmoid function for activations. The output layer has only one node and is used for the regression, the output of the node is the same as the input of the node. That is, the activation function is $f(x)=x$. A function that takes the input signal and generates an output signal, but takes into account the threshold, is called an activation function. We work through each layer of our network calculating the outputs for each neuron. All of the outputs from one layer become inputs to the neurons on the next layer. This process is called *forward propagation*.\n",
        "\n",
        "We use the weights to propagate signals forward from the input to the output layers in a neural network. We use the weights to also propagate error backwards from the output back into the network to update our weights. This is called *backpropagation*.\n",
        "\n",
        "> **Hint:** You'll need the derivative of the output activation function ($f(x) = x$) for the backpropagation implementation. If you aren't familiar with calculus, this function is equivalent to the equation $y = x$. What is the slope of that equation? That is the derivative of $f(x)$.\n",
        "\n",
        "Below, you have these tasks:\n",
        "1. Implement the sigmoid function to use as the activation function. Set `self.activation_function` in `__init__` to your sigmoid function.\n",
        "2. Implement the forward pass in the `train` method.\n",
        "3. Implement the backpropagation algorithm in the `train` method, including calculating the output error.\n",
        "4. Implement the forward pass in the `run` method.\n",
        "  "
      ]
    },
    {
      "metadata": {
        "id": "i8r0w0po9t68",
        "colab_type": "code",
        "colab": {}
      },
      "cell_type": "code",
      "source": [
        "class NeuralNetwork(object):\n",
        "  \n",
        "    def __init__(self, input_nodes, hidden_nodes, output_nodes, learning_rate):\n",
        "        # Set number of nodes in input, hidden and output layers.\n",
        "        self.input_nodes = input_nodes\n",
        "        self.hidden_nodes = hidden_nodes\n",
        "        self.output_nodes = output_nodes\n",
        "\n",
        "        # Initialize weights\n",
        "        self.weights_input_to_hidden = np.random.normal(0.0, self.input_nodes**-0.5, \n",
        "                                       (self.input_nodes, self.hidden_nodes))\n",
        "\n",
        "        self.weights_hidden_to_output = np.random.normal(0.0, self.hidden_nodes**-0.5, \n",
        "                                       (self.hidden_nodes, self.output_nodes))\n",
        "        self.lr = learning_rate\n",
        "        \n",
        "        #### Set self.activation_function to sigmoid function\n",
        "        self.activation_function = lambda x : 1 / (1 + np.exp(-x))\n",
        "        self.derivative_function = lambda x : x * (1 - x)\n",
        "                 \n",
        "    \n",
        "    def train(self, features, targets):\n",
        "        ''' Train the network on batch of features and targets. \n",
        "        \n",
        "            Arguments\n",
        "            ---------\n",
        "            \n",
        "            features: 2D array, each row is one data record, each column is a feature\n",
        "            targets: 1D array of target values\n",
        "        \n",
        "        '''\n",
        "        n_records = features.shape[0]\n",
        "        delta_weights_i_h = np.zeros(self.weights_input_to_hidden.shape) # np.zeros: Return a new array of given shape and type, filled with zeros.\n",
        "        delta_weights_h_o = np.zeros(self.weights_hidden_to_output.shape)\n",
        "        \n",
        "        for X, y in zip(features, targets):\n",
        "            \n",
        "            ### ------- Forward pass -------  ###\n",
        "            \n",
        "            # Hidden layer \n",
        "            hidden_inputs = np.dot(X, self.weights_input_to_hidden)\n",
        "            hidden_outputs = self.activation_function(hidden_inputs)\n",
        "\n",
        "            # Output layer \n",
        "            final_inputs = np.dot(hidden_outputs, self.weights_hidden_to_output)\n",
        "            final_outputs = final_inputs\n",
        "                    \n",
        "            # keep in mind ------------------------------------------------------------------------\n",
        "            # do not calculate the final_outputs with the activation_function\n",
        "            # the neural network output should be used for 'real' values and not for classification\n",
        "            # -------------------------------------------------------------------------------------\n",
        "            \n",
        "            \n",
        "            ### -------  Backward pass -------  ###\n",
        "\n",
        "            # Output error\n",
        "            output_error = y - final_outputs # difference between desired target and actual output\n",
        "            output_error_term = output_error # since the final_outputs was not calculated with the activation_function, we do not use derivative function here\n",
        "            \n",
        "            # hidden layer's contribution to the error\n",
        "            hidden_error = np.dot(output_error_term, self.weights_hidden_to_output.T)\n",
        "            hidden_error_term = hidden_error * self.derivative_function(hidden_outputs) # Backpropagated error terms\n",
        "\n",
        "            # Weight step (hidden to output)\n",
        "            delta_weights_h_o += output_error_term * hidden_outputs[:, None]\n",
        "            # Weight step (input to hidden)\n",
        "            delta_weights_i_h += hidden_error_term * X[:, None]\n",
        "            \n",
        "\n",
        "        # Update the weights with gradient descent step\n",
        "        self.weights_hidden_to_output += self.lr * delta_weights_h_o / n_records \n",
        "        self.weights_input_to_hidden += self.lr * delta_weights_i_h / n_records\n",
        " \n",
        "    def run(self, features):\n",
        "        ''' Run a forward pass through the network with input features \n",
        "        \n",
        "            Arguments\n",
        "            ---------\n",
        "            features: 1D array of feature values\n",
        "        '''\n",
        "        \n",
        "        #### Implement the forward pass here ####\n",
        "        # Hidden layer\n",
        "        hidden_inputs = np.dot(features, self.weights_input_to_hidden)\n",
        "        hidden_outputs = self.activation_function(hidden_inputs)\n",
        "        \n",
        "        # Output layer\n",
        "        final_inputs = np.dot(hidden_outputs, self.weights_hidden_to_output)\n",
        "        final_outputs = final_inputs \n",
        "        \n",
        "        return final_outputs"
      ],
      "execution_count": 0,
      "outputs": []
    },
    {
      "metadata": {
        "id": "xN8ztxGk9t6_",
        "colab_type": "code",
        "colab": {}
      },
      "cell_type": "code",
      "source": [
        "def MSE(y, Y):\n",
        "    return np.mean((y-Y)**2)"
      ],
      "execution_count": 0,
      "outputs": []
    },
    {
      "metadata": {
        "id": "o8s6W57l9t7C",
        "colab_type": "text"
      },
      "cell_type": "markdown",
      "source": [
        "## Unit tests\n",
        "\n",
        "Run these unit tests to check the correctness of your network implementation. This will help you be sure your network was implemented correctly befor you starting trying to train it. These tests must all be successful to pass the project."
      ]
    },
    {
      "metadata": {
        "id": "5-rb95cG9t7C",
        "colab_type": "code",
        "colab": {
          "base_uri": "https://localhost:8080/",
          "height": 118
        },
        "outputId": "aa08599a-b161-4ccf-c359-9c8f7fecb4a3"
      },
      "cell_type": "code",
      "source": [
        "import unittest\n",
        "\n",
        "inputs = np.array([[0.5, -0.2, 0.1]])\n",
        "targets = np.array([[0.4]])\n",
        "test_w_i_h = np.array([[0.1, -0.2],\n",
        "                       [0.4, 0.5],\n",
        "                       [-0.3, 0.2]])\n",
        "test_w_h_o = np.array([[0.3],\n",
        "                       [-0.1]])\n",
        "\n",
        "class TestMethods(unittest.TestCase):\n",
        "    \n",
        "    ##########\n",
        "    # Unit tests for data loading\n",
        "    ##########\n",
        "    \n",
        "    def test_data_path(self):\n",
        "        # Test that file path to dataset has been unaltered\n",
        "        self.assertTrue(data_path.lower() == 'bike-sharing-dataset/hour.csv')\n",
        "        \n",
        "    def test_data_loaded(self):\n",
        "        # Test that data frame loaded\n",
        "        self.assertTrue(isinstance(rides, pd.DataFrame))\n",
        "    \n",
        "    ##########\n",
        "    # Unit tests for network functionality\n",
        "    ##########\n",
        "\n",
        "    def test_activation(self):\n",
        "        network = NeuralNetwork(3, 2, 1, 0.5)\n",
        "        # Test that the activation function is a sigmoid\n",
        "        self.assertTrue(np.all(network.activation_function(0.5) == 1/(1+np.exp(-0.5))))\n",
        "\n",
        "    def test_train(self):\n",
        "        # Test that weights are updated correctly on training\n",
        "        network = NeuralNetwork(3, 2, 1, 0.5)\n",
        "        network.weights_input_to_hidden = test_w_i_h.copy()\n",
        "        network.weights_hidden_to_output = test_w_h_o.copy()\n",
        "        \n",
        "        network.train(inputs, targets)\n",
        "        self.assertTrue(np.allclose(network.weights_hidden_to_output, \n",
        "                                    np.array([[ 0.37275328], \n",
        "                                              [-0.03172939]])))\n",
        "        self.assertTrue(np.allclose(network.weights_input_to_hidden,\n",
        "                                    np.array([[ 0.10562014, -0.20185996], \n",
        "                                              [0.39775194, 0.50074398], \n",
        "                                              [-0.29887597, 0.19962801]])))\n",
        "\n",
        "    def test_run(self):\n",
        "        # Test correctness of run method\n",
        "        network = NeuralNetwork(3, 2, 1, 0.5)\n",
        "        network.weights_input_to_hidden = test_w_i_h.copy()\n",
        "        network.weights_hidden_to_output = test_w_h_o.copy()\n",
        "\n",
        "        self.assertTrue(np.allclose(network.run(inputs), 0.09998924))\n",
        "\n",
        "suite = unittest.TestLoader().loadTestsFromModule(TestMethods())\n",
        "unittest.TextTestRunner().run(suite)"
      ],
      "execution_count": 53,
      "outputs": [
        {
          "output_type": "stream",
          "text": [
            ".....\n",
            "----------------------------------------------------------------------\n",
            "Ran 5 tests in 0.007s\n",
            "\n",
            "OK\n"
          ],
          "name": "stderr"
        },
        {
          "output_type": "execute_result",
          "data": {
            "text/plain": [
              "<unittest.runner.TextTestResult run=5 errors=0 failures=0>"
            ]
          },
          "metadata": {
            "tags": []
          },
          "execution_count": 53
        }
      ]
    },
    {
      "metadata": {
        "id": "UgVQ3CSc9t7F",
        "colab_type": "text"
      },
      "cell_type": "markdown",
      "source": [
        "## Training the network\n",
        "\n",
        "Here you'll set the hyperparameters for the network. The strategy here is to find hyperparameters such that the error on the training set is low, but you're not overfitting to the data. If you train the network too long or have too many hidden nodes, it can become overly specific to the training set and will fail to generalize to the validation set. That is, the loss on the validation set will start increasing as the training set loss drops.\n",
        "\n",
        "You'll also be using a method know as Stochastic Gradient Descent (SGD) to train the network. The idea is that for each training pass, you grab a random sample of the data instead of using the whole data set. You use many more training passes than with normal gradient descent, but each pass is much faster. This ends up training the network more efficiently. You'll learn more about SGD later.\n",
        "\n",
        "### Choose the number of iterations\n",
        "This is the number of batches of samples from the training data we'll use to train the network. The more iterations you use, the better the model will fit the data. However, this process can have sharply diminishing returns and can waste computational resources if you use too many iterations.  You want to find a number here where the network has a low training loss, and the validation loss is at a minimum. The ideal number of iterations would be a level that stops shortly after the validation loss is no longer decreasing.\n",
        "\n",
        "### Choose the learning rate\n",
        "This scales the size of weight updates. If this is too big, the weights tend to explode and the network fails to fit the data. Normally a good choice to start at is 0.1; however, if you effectively divide the learning rate by n_records, try starting out with a learning rate of 1. In either case, if the network has problems fitting the data, try reducing the learning rate. Note that the lower the learning rate, the smaller the steps are in the weight updates and the longer it takes for the neural network to converge.\n",
        "\n",
        "### Choose the number of hidden nodes\n",
        "In a model where all the weights are optimized, the more hidden nodes you have, the more accurate the predictions of the model will be.  (A fully optimized model could have weights of zero, after all.) However, the more hidden nodes you have, the harder it will be to optimize the weights of the model, and the more likely it will be that suboptimal weights will lead to overfitting. With overfitting, the model will memorize the training data instead of learning the true pattern, and won't generalize well to unseen data.  \n",
        "\n",
        "Try a few different numbers and see how it affects the performance. You can look at the losses dictionary for a metric of the network performance. If the number of hidden units is too low, then the model won't have enough space to learn and if it is too high there are too many options for the direction that the learning can take. The trick here is to find the right balance in number of hidden units you choose.  You'll generally find that the best number of hidden nodes to use ends up being between the number of input and output nodes."
      ]
    },
    {
      "metadata": {
        "id": "JIO1q_rl9t7G",
        "colab_type": "code",
        "colab": {}
      },
      "cell_type": "code",
      "source": [
        "import sys\n",
        "\n",
        "####################\n",
        "### Set the hyperparameters in you myanswers.py file ###\n",
        "####################\n",
        "\n",
        "from my_answers import iterations, learning_rate, hidden_nodes, output_nodes\n",
        "\n",
        "\n",
        "N_i = train_features.shape[1]\n",
        "network = NeuralNetwork(N_i, hidden_nodes, output_nodes, learning_rate)\n",
        "\n",
        "losses = {'train':[], 'validation':[]}\n",
        "for ii in range(iterations):\n",
        "    # Go through a random batch of 128 records from the training data set\n",
        "    batch = np.random.choice(train_features.index, size=128)\n",
        "    X, y = train_features.ix[batch].values, train_targets.ix[batch]['cnt']\n",
        "                             \n",
        "    network.train(X, y)\n",
        "    \n",
        "    # Printing out the training progress\n",
        "    train_loss = MSE(network.run(train_features).T, train_targets['cnt'].values)\n",
        "    val_loss = MSE(network.run(val_features).T, val_targets['cnt'].values)\n",
        "    sys.stdout.write(\"\\rProgress: {:2.1f}\".format(100 * ii/float(iterations)) \\\n",
        "                     + \"% ... Training loss: \" + str(train_loss)[:5] \\\n",
        "                     + \" ... Validation loss: \" + str(val_loss)[:5])\n",
        "    sys.stdout.flush()\n",
        "    \n",
        "    losses['train'].append(train_loss)\n",
        "    losses['validation'].append(val_loss)"
      ],
      "execution_count": 0,
      "outputs": []
    },
    {
      "metadata": {
        "id": "foh-8BL09t7J",
        "colab_type": "code",
        "colab": {}
      },
      "cell_type": "code",
      "source": [
        "plt.plot(losses['train'], label='Training loss')\n",
        "plt.plot(losses['validation'], label='Validation loss')\n",
        "plt.legend()\n",
        "_ = plt.ylim()"
      ],
      "execution_count": 0,
      "outputs": []
    },
    {
      "metadata": {
        "id": "Uo92M2Ps9t7M",
        "colab_type": "text"
      },
      "cell_type": "markdown",
      "source": [
        "## Check out your predictions\n",
        "\n",
        "Here, use the test data to view how well your network is modeling the data. If something is completely wrong here, make sure each step in your network is implemented correctly."
      ]
    },
    {
      "metadata": {
        "id": "AMeQcVaN9t7N",
        "colab_type": "code",
        "colab": {}
      },
      "cell_type": "code",
      "source": [
        "fig, ax = plt.subplots(figsize=(8,4))\n",
        "\n",
        "mean, std = scaled_features['cnt']\n",
        "predictions = network.run(test_features).T*std + mean\n",
        "ax.plot(predictions[0], label='Prediction')\n",
        "ax.plot((test_targets['cnt']*std + mean).values, label='Data')\n",
        "ax.set_xlim(right=len(predictions))\n",
        "ax.legend()\n",
        "\n",
        "dates = pd.to_datetime(rides.ix[test_data.index]['dteday'])\n",
        "dates = dates.apply(lambda d: d.strftime('%b %d'))\n",
        "ax.set_xticks(np.arange(len(dates))[12::24])\n",
        "_ = ax.set_xticklabels(dates[12::24], rotation=45)"
      ],
      "execution_count": 0,
      "outputs": []
    },
    {
      "metadata": {
        "id": "3rs-w-GB9t7S",
        "colab_type": "text"
      },
      "cell_type": "markdown",
      "source": [
        "## OPTIONAL: Thinking about your results(this question will not be evaluated in the rubric).\n",
        " \n",
        "Answer these questions about your results. How well does the model predict the data? Where does it fail? Why does it fail where it does?\n",
        "\n",
        "> **Note:** You can edit the text in this cell by double clicking on it. When you want to render the text, press control + enter\n",
        "\n",
        "#### Your answer below"
      ]
    },
    {
      "metadata": {
        "id": "hNHUzauR9t7T",
        "colab_type": "text"
      },
      "cell_type": "markdown",
      "source": [
        "## Submitting:\n",
        "Open up the 'jwt' file in the first-neural-network directory (which also contains this notebook) for submission instructions"
      ]
    },
    {
      "metadata": {
        "id": "UBYZYgkh9t7V",
        "colab_type": "code",
        "colab": {}
      },
      "cell_type": "code",
      "source": [
        ""
      ],
      "execution_count": 0,
      "outputs": []
    }
  ]
}